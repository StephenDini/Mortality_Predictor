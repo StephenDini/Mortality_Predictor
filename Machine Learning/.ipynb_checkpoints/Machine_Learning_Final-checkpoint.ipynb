{
 "cells": [
  {
   "cell_type": "code",
   "execution_count": 1,
   "id": "dc4c1460",
   "metadata": {},
   "outputs": [],
   "source": [
    "import warnings\n",
    "warnings.filterwarnings('ignore')"
   ]
  },
  {
   "cell_type": "code",
   "execution_count": 2,
   "id": "8a3a8ca2",
   "metadata": {},
   "outputs": [],
   "source": [
    "import numpy as np\n",
    "import pandas as pd\n",
    "from pathlib import Path\n",
    "from collections import Counter\n",
    "import matplotlib.pyplot as plt\n",
    "from sklearn.linear_model import LinearRegression"
   ]
  },
  {
   "cell_type": "code",
   "execution_count": 3,
   "id": "fbedd01b",
   "metadata": {},
   "outputs": [],
   "source": [
    "from sklearn.metrics import balanced_accuracy_score\n",
    "from sklearn.metrics import confusion_matrix\n",
    "from imblearn.metrics import classification_report_imbalanced"
   ]
  },
  {
   "cell_type": "code",
   "execution_count": 4,
   "id": "5e285047",
   "metadata": {},
   "outputs": [
    {
     "data": {
      "text/html": [
       "<div>\n",
       "<style scoped>\n",
       "    .dataframe tbody tr th:only-of-type {\n",
       "        vertical-align: middle;\n",
       "    }\n",
       "\n",
       "    .dataframe tbody tr th {\n",
       "        vertical-align: top;\n",
       "    }\n",
       "\n",
       "    .dataframe thead th {\n",
       "        text-align: right;\n",
       "    }\n",
       "</style>\n",
       "<table border=\"1\" class=\"dataframe\">\n",
       "  <thead>\n",
       "    <tr style=\"text-align: right;\">\n",
       "      <th></th>\n",
       "      <th>Unnamed: 0</th>\n",
       "      <th>Country</th>\n",
       "      <th>Literacy_Rate</th>\n",
       "      <th>Buddhists</th>\n",
       "      <th>Christians</th>\n",
       "      <th>Folk_Religions</th>\n",
       "      <th>Hindus</th>\n",
       "      <th>Jews</th>\n",
       "      <th>Muslims</th>\n",
       "      <th>Other_Religions</th>\n",
       "      <th>...</th>\n",
       "      <th>gdp_per_capita_2010</th>\n",
       "      <th>gdp_per_capita_2015</th>\n",
       "      <th>mortality_rate_2000</th>\n",
       "      <th>mortality_rate_2005</th>\n",
       "      <th>mortality_rate_2010</th>\n",
       "      <th>mortality_rate_2015</th>\n",
       "      <th>Longitude</th>\n",
       "      <th>Latitude</th>\n",
       "      <th>mortality_rate</th>\n",
       "      <th>mortality_state</th>\n",
       "    </tr>\n",
       "  </thead>\n",
       "  <tbody>\n",
       "    <tr>\n",
       "      <th>0</th>\n",
       "      <td>0</td>\n",
       "      <td>Albania</td>\n",
       "      <td>96.8</td>\n",
       "      <td>1.0</td>\n",
       "      <td>18.0</td>\n",
       "      <td>1.0</td>\n",
       "      <td>1.0</td>\n",
       "      <td>1.0</td>\n",
       "      <td>80.3</td>\n",
       "      <td>1.0</td>\n",
       "      <td>...</td>\n",
       "      <td>4094.35</td>\n",
       "      <td>3952.80</td>\n",
       "      <td>106.10</td>\n",
       "      <td>105.70</td>\n",
       "      <td>103.50</td>\n",
       "      <td>92.24</td>\n",
       "      <td>19.999962</td>\n",
       "      <td>41.000028</td>\n",
       "      <td>9.224</td>\n",
       "      <td>1</td>\n",
       "    </tr>\n",
       "    <tr>\n",
       "      <th>1</th>\n",
       "      <td>1</td>\n",
       "      <td>Algeria</td>\n",
       "      <td>72.6</td>\n",
       "      <td>1.0</td>\n",
       "      <td>1.0</td>\n",
       "      <td>1.0</td>\n",
       "      <td>1.0</td>\n",
       "      <td>1.0</td>\n",
       "      <td>97.9</td>\n",
       "      <td>1.0</td>\n",
       "      <td>...</td>\n",
       "      <td>4480.79</td>\n",
       "      <td>4177.89</td>\n",
       "      <td>141.90</td>\n",
       "      <td>119.30</td>\n",
       "      <td>104.40</td>\n",
       "      <td>96.49</td>\n",
       "      <td>2.999983</td>\n",
       "      <td>28.000027</td>\n",
       "      <td>9.649</td>\n",
       "      <td>1</td>\n",
       "    </tr>\n",
       "    <tr>\n",
       "      <th>2</th>\n",
       "      <td>2</td>\n",
       "      <td>Angola</td>\n",
       "      <td>70.4</td>\n",
       "      <td>1.0</td>\n",
       "      <td>90.5</td>\n",
       "      <td>4.2</td>\n",
       "      <td>1.0</td>\n",
       "      <td>1.0</td>\n",
       "      <td>1.0</td>\n",
       "      <td>1.0</td>\n",
       "      <td>...</td>\n",
       "      <td>3497.97</td>\n",
       "      <td>3127.89</td>\n",
       "      <td>383.60</td>\n",
       "      <td>322.70</td>\n",
       "      <td>269.70</td>\n",
       "      <td>239.80</td>\n",
       "      <td>17.569124</td>\n",
       "      <td>-11.877577</td>\n",
       "      <td>23.980</td>\n",
       "      <td>3</td>\n",
       "    </tr>\n",
       "    <tr>\n",
       "      <th>3</th>\n",
       "      <td>3</td>\n",
       "      <td>Antigua and Barbuda</td>\n",
       "      <td>99.0</td>\n",
       "      <td>1.0</td>\n",
       "      <td>93.0</td>\n",
       "      <td>3.6</td>\n",
       "      <td>1.0</td>\n",
       "      <td>1.0</td>\n",
       "      <td>1.0</td>\n",
       "      <td>1.0</td>\n",
       "      <td>...</td>\n",
       "      <td>13048.96</td>\n",
       "      <td>14285.33</td>\n",
       "      <td>156.70</td>\n",
       "      <td>156.10</td>\n",
       "      <td>134.60</td>\n",
       "      <td>121.90</td>\n",
       "      <td>-61.955461</td>\n",
       "      <td>17.223472</td>\n",
       "      <td>12.190</td>\n",
       "      <td>2</td>\n",
       "    </tr>\n",
       "    <tr>\n",
       "      <th>4</th>\n",
       "      <td>4</td>\n",
       "      <td>Argentina</td>\n",
       "      <td>97.9</td>\n",
       "      <td>1.0</td>\n",
       "      <td>85.2</td>\n",
       "      <td>1.0</td>\n",
       "      <td>1.0</td>\n",
       "      <td>1.0</td>\n",
       "      <td>1.0</td>\n",
       "      <td>1.0</td>\n",
       "      <td>...</td>\n",
       "      <td>10385.96</td>\n",
       "      <td>13789.06</td>\n",
       "      <td>138.50</td>\n",
       "      <td>124.90</td>\n",
       "      <td>118.70</td>\n",
       "      <td>112.70</td>\n",
       "      <td>-64.967282</td>\n",
       "      <td>-34.996496</td>\n",
       "      <td>11.270</td>\n",
       "      <td>2</td>\n",
       "    </tr>\n",
       "    <tr>\n",
       "      <th>5</th>\n",
       "      <td>5</td>\n",
       "      <td>Armenia</td>\n",
       "      <td>99.6</td>\n",
       "      <td>1.0</td>\n",
       "      <td>98.5</td>\n",
       "      <td>1.0</td>\n",
       "      <td>1.0</td>\n",
       "      <td>1.0</td>\n",
       "      <td>1.0</td>\n",
       "      <td>1.0</td>\n",
       "      <td>...</td>\n",
       "      <td>3218.38</td>\n",
       "      <td>3607.29</td>\n",
       "      <td>143.40</td>\n",
       "      <td>139.70</td>\n",
       "      <td>137.90</td>\n",
       "      <td>121.30</td>\n",
       "      <td>44.673665</td>\n",
       "      <td>40.769627</td>\n",
       "      <td>12.130</td>\n",
       "      <td>2</td>\n",
       "    </tr>\n",
       "    <tr>\n",
       "      <th>6</th>\n",
       "      <td>6</td>\n",
       "      <td>Australia</td>\n",
       "      <td>99.0</td>\n",
       "      <td>2.7</td>\n",
       "      <td>67.3</td>\n",
       "      <td>1.0</td>\n",
       "      <td>1.4</td>\n",
       "      <td>1.0</td>\n",
       "      <td>2.4</td>\n",
       "      <td>1.0</td>\n",
       "      <td>...</td>\n",
       "      <td>52087.97</td>\n",
       "      <td>56707.02</td>\n",
       "      <td>76.93</td>\n",
       "      <td>68.13</td>\n",
       "      <td>63.06</td>\n",
       "      <td>62.17</td>\n",
       "      <td>134.755000</td>\n",
       "      <td>-24.776109</td>\n",
       "      <td>6.217</td>\n",
       "      <td>1</td>\n",
       "    </tr>\n",
       "    <tr>\n",
       "      <th>7</th>\n",
       "      <td>7</td>\n",
       "      <td>Austria</td>\n",
       "      <td>98.0</td>\n",
       "      <td>1.0</td>\n",
       "      <td>80.4</td>\n",
       "      <td>1.0</td>\n",
       "      <td>1.0</td>\n",
       "      <td>1.0</td>\n",
       "      <td>5.4</td>\n",
       "      <td>1.0</td>\n",
       "      <td>...</td>\n",
       "      <td>46903.76</td>\n",
       "      <td>44195.82</td>\n",
       "      <td>93.72</td>\n",
       "      <td>83.70</td>\n",
       "      <td>74.43</td>\n",
       "      <td>64.34</td>\n",
       "      <td>14.124560</td>\n",
       "      <td>47.593970</td>\n",
       "      <td>6.434</td>\n",
       "      <td>1</td>\n",
       "    </tr>\n",
       "    <tr>\n",
       "      <th>8</th>\n",
       "      <td>8</td>\n",
       "      <td>Azerbaijan</td>\n",
       "      <td>99.8</td>\n",
       "      <td>1.0</td>\n",
       "      <td>3.0</td>\n",
       "      <td>1.0</td>\n",
       "      <td>1.0</td>\n",
       "      <td>1.0</td>\n",
       "      <td>96.9</td>\n",
       "      <td>1.0</td>\n",
       "      <td>...</td>\n",
       "      <td>5843.53</td>\n",
       "      <td>5500.31</td>\n",
       "      <td>161.00</td>\n",
       "      <td>160.00</td>\n",
       "      <td>131.80</td>\n",
       "      <td>119.50</td>\n",
       "      <td>47.787251</td>\n",
       "      <td>40.393629</td>\n",
       "      <td>11.950</td>\n",
       "      <td>2</td>\n",
       "    </tr>\n",
       "    <tr>\n",
       "      <th>9</th>\n",
       "      <td>9</td>\n",
       "      <td>Bahrain</td>\n",
       "      <td>94.6</td>\n",
       "      <td>2.5</td>\n",
       "      <td>14.5</td>\n",
       "      <td>1.0</td>\n",
       "      <td>9.8</td>\n",
       "      <td>1.0</td>\n",
       "      <td>70.3</td>\n",
       "      <td>1.0</td>\n",
       "      <td>...</td>\n",
       "      <td>20722.07</td>\n",
       "      <td>22634.09</td>\n",
       "      <td>100.80</td>\n",
       "      <td>83.48</td>\n",
       "      <td>65.97</td>\n",
       "      <td>58.52</td>\n",
       "      <td>50.534461</td>\n",
       "      <td>26.155125</td>\n",
       "      <td>5.852</td>\n",
       "      <td>1</td>\n",
       "    </tr>\n",
       "  </tbody>\n",
       "</table>\n",
       "<p>10 rows × 35 columns</p>\n",
       "</div>"
      ],
      "text/plain": [
       "   Unnamed: 0              Country  Literacy_Rate  Buddhists  Christians  \\\n",
       "0           0              Albania           96.8        1.0        18.0   \n",
       "1           1              Algeria           72.6        1.0         1.0   \n",
       "2           2               Angola           70.4        1.0        90.5   \n",
       "3           3  Antigua and Barbuda           99.0        1.0        93.0   \n",
       "4           4            Argentina           97.9        1.0        85.2   \n",
       "5           5              Armenia           99.6        1.0        98.5   \n",
       "6           6            Australia           99.0        2.7        67.3   \n",
       "7           7              Austria           98.0        1.0        80.4   \n",
       "8           8           Azerbaijan           99.8        1.0         3.0   \n",
       "9           9              Bahrain           94.6        2.5        14.5   \n",
       "\n",
       "   Folk_Religions  Hindus  Jews  Muslims  Other_Religions  ...  \\\n",
       "0             1.0     1.0   1.0     80.3              1.0  ...   \n",
       "1             1.0     1.0   1.0     97.9              1.0  ...   \n",
       "2             4.2     1.0   1.0      1.0              1.0  ...   \n",
       "3             3.6     1.0   1.0      1.0              1.0  ...   \n",
       "4             1.0     1.0   1.0      1.0              1.0  ...   \n",
       "5             1.0     1.0   1.0      1.0              1.0  ...   \n",
       "6             1.0     1.4   1.0      2.4              1.0  ...   \n",
       "7             1.0     1.0   1.0      5.4              1.0  ...   \n",
       "8             1.0     1.0   1.0     96.9              1.0  ...   \n",
       "9             1.0     9.8   1.0     70.3              1.0  ...   \n",
       "\n",
       "   gdp_per_capita_2010  gdp_per_capita_2015  mortality_rate_2000  \\\n",
       "0              4094.35              3952.80               106.10   \n",
       "1              4480.79              4177.89               141.90   \n",
       "2              3497.97              3127.89               383.60   \n",
       "3             13048.96             14285.33               156.70   \n",
       "4             10385.96             13789.06               138.50   \n",
       "5              3218.38              3607.29               143.40   \n",
       "6             52087.97             56707.02                76.93   \n",
       "7             46903.76             44195.82                93.72   \n",
       "8              5843.53              5500.31               161.00   \n",
       "9             20722.07             22634.09               100.80   \n",
       "\n",
       "   mortality_rate_2005  mortality_rate_2010  mortality_rate_2015   Longitude  \\\n",
       "0               105.70               103.50                92.24   19.999962   \n",
       "1               119.30               104.40                96.49    2.999983   \n",
       "2               322.70               269.70               239.80   17.569124   \n",
       "3               156.10               134.60               121.90  -61.955461   \n",
       "4               124.90               118.70               112.70  -64.967282   \n",
       "5               139.70               137.90               121.30   44.673665   \n",
       "6                68.13                63.06                62.17  134.755000   \n",
       "7                83.70                74.43                64.34   14.124560   \n",
       "8               160.00               131.80               119.50   47.787251   \n",
       "9                83.48                65.97                58.52   50.534461   \n",
       "\n",
       "    Latitude  mortality_rate  mortality_state  \n",
       "0  41.000028           9.224                1  \n",
       "1  28.000027           9.649                1  \n",
       "2 -11.877577          23.980                3  \n",
       "3  17.223472          12.190                2  \n",
       "4 -34.996496          11.270                2  \n",
       "5  40.769627          12.130                2  \n",
       "6 -24.776109           6.217                1  \n",
       "7  47.593970           6.434                1  \n",
       "8  40.393629          11.950                2  \n",
       "9  26.155125           5.852                1  \n",
       "\n",
       "[10 rows x 35 columns]"
      ]
     },
     "execution_count": 4,
     "metadata": {},
     "output_type": "execute_result"
    }
   ],
   "source": [
    "# Load the cleaned data into a data frame\n",
    "file_path = Path('../cleaned_data/data_by_country.csv')\n",
    "df = pd.read_csv(file_path)\n",
    "#df = pd.read_csv(file_path, index_col=0)\n",
    "df.head(10)      "
   ]
  },
  {
   "cell_type": "code",
   "execution_count": 5,
   "id": "91e702ef",
   "metadata": {},
   "outputs": [],
   "source": [
    "# Set y\n",
    "y = df[['mortality_state']]\n",
    "\n",
    "# Drop Country column - non numeric AND unneeded\n",
    "# Drop Mortality Columns as we will use 1 target = mortality_rate_2015\n",
    "df = df.drop(['Country','mortality_rate_2000',\n",
    "              'mortality_rate_2005','mortality_rate_2010',\n",
    "              'mortality_rate_2015','mortality_rate','mortality_state', 'Latitude', 'Longitude'], axis=1)\n",
    "# Set X\n",
    "X=df"
   ]
  },
  {
   "cell_type": "code",
   "execution_count": 6,
   "id": "cc5a304e",
   "metadata": {},
   "outputs": [
    {
     "data": {
      "text/plain": [
       "2    58\n",
       "1    42\n",
       "3    39\n",
       "Name: mortality_state, dtype: int64"
      ]
     },
     "execution_count": 6,
     "metadata": {},
     "output_type": "execute_result"
    }
   ],
   "source": [
    "# Check the balance of our target values\n",
    "y['mortality_state'].value_counts()"
   ]
  },
  {
   "cell_type": "code",
   "execution_count": 7,
   "id": "32816b08",
   "metadata": {},
   "outputs": [],
   "source": [
    "# Split data\n",
    "from sklearn.model_selection import train_test_split\n",
    "X_train, X_test, y_train, y_test = train_test_split(X, y, random_state=1)"
   ]
  },
  {
   "cell_type": "code",
   "execution_count": 8,
   "id": "d805b718",
   "metadata": {},
   "outputs": [
    {
     "name": "stdout",
     "output_type": "stream",
     "text": [
      "(104, 26)\n"
     ]
    }
   ],
   "source": [
    "print(X_train.shape)"
   ]
  },
  {
   "cell_type": "code",
   "execution_count": 9,
   "id": "0f8186f8",
   "metadata": {},
   "outputs": [
    {
     "name": "stdout",
     "output_type": "stream",
     "text": [
      "(104, 1)\n"
     ]
    }
   ],
   "source": [
    "print(y_train.shape)"
   ]
  },
  {
   "cell_type": "markdown",
   "id": "982686ec",
   "metadata": {},
   "source": [
    "# Balanced Random Forest Classifier"
   ]
  },
  {
   "cell_type": "code",
   "execution_count": 10,
   "id": "6e070cde",
   "metadata": {},
   "outputs": [
    {
     "data": {
      "text/plain": [
       "BalancedRandomForestClassifier(random_state=1)"
      ]
     },
     "execution_count": 10,
     "metadata": {},
     "output_type": "execute_result"
    }
   ],
   "source": [
    "# Resample the training data with the BalancedRandomForestClassifier\n",
    "from imblearn.ensemble import BalancedRandomForestClassifier\n",
    "\n",
    "# Create a balanced random forest classifier.\n",
    "brf_model = BalancedRandomForestClassifier(n_estimators=100, random_state=1)\n",
    "\n",
    "# Fitting the model\n",
    "brf_model = brf_model.fit(X_train, y_train)\n",
    "brf_model"
   ]
  },
  {
   "cell_type": "code",
   "execution_count": 11,
   "id": "b1d926e7",
   "metadata": {},
   "outputs": [
    {
     "data": {
      "text/plain": [
       "0.7194444444444444"
      ]
     },
     "execution_count": 11,
     "metadata": {},
     "output_type": "execute_result"
    }
   ],
   "source": [
    "# Calculated the balanced accuracy score\n",
    "from sklearn.metrics import balanced_accuracy_score\n",
    "y_pred = brf_model.predict(X_test)\n",
    "balanced_accuracy_score(y_test, y_pred)"
   ]
  },
  {
   "cell_type": "code",
   "execution_count": 12,
   "id": "f6727799",
   "metadata": {},
   "outputs": [
    {
     "data": {
      "text/plain": [
       "array([[ 7,  1,  0],\n",
       "       [ 1, 13,  1],\n",
       "       [ 0,  7,  5]], dtype=int64)"
      ]
     },
     "execution_count": 12,
     "metadata": {},
     "output_type": "execute_result"
    }
   ],
   "source": [
    "# Display the confusion matrix\n",
    "from sklearn.metrics import confusion_matrix\n",
    "confusion_matrix(y_test, y_pred)"
   ]
  },
  {
   "cell_type": "code",
   "execution_count": 13,
   "id": "460c1d5b",
   "metadata": {},
   "outputs": [
    {
     "name": "stdout",
     "output_type": "stream",
     "text": [
      "                   pre       rec       spe        f1       geo       iba       sup\n",
      "\n",
      "          1       0.88      0.88      0.96      0.88      0.92      0.84         8\n",
      "          2       0.62      0.87      0.60      0.72      0.72      0.53        15\n",
      "          3       0.83      0.42      0.96      0.56      0.63      0.38        12\n",
      "\n",
      "avg / total       0.75      0.71      0.81      0.70      0.74      0.55        35\n",
      "\n"
     ]
    }
   ],
   "source": [
    "# Print the imbalanced classification report\n",
    "from imblearn.metrics import classification_report_imbalanced\n",
    "print(classification_report_imbalanced(y_test, y_pred))"
   ]
  },
  {
   "cell_type": "markdown",
   "id": "04e834c9",
   "metadata": {},
   "source": [
    "# Optimizing Model-Standard Bagging Random Forest Classifier"
   ]
  },
  {
   "cell_type": "code",
   "execution_count": 14,
   "id": "b0a23cf4",
   "metadata": {},
   "outputs": [
    {
     "name": "stdout",
     "output_type": "stream",
     "text": [
      "Mean ROC AUC: 0.925\n"
     ]
    }
   ],
   "source": [
    "# https://machinelearningmastery.com/bagging-and-random-forest-for-imbalanced-classification/\n",
    "\n",
    "#Optimizing using SKLearn bagging \n",
    "from imblearn.ensemble import BalancedRandomForestClassifier\n",
    "from sklearn.datasets import make_classification\n",
    "from sklearn.ensemble import RandomForestClassifier\n",
    "from sklearn.ensemble import BaggingClassifier\n",
    "from numpy import mean\n",
    "from sklearn.datasets import make_classification\n",
    "from sklearn.model_selection import cross_val_score\n",
    "from sklearn.model_selection import RepeatedStratifiedKFold\n",
    "\n",
    "# Generate Dataset \n",
    "X, y= make_classification(n_samples = 100, n_features=5, \n",
    "                                  n_redundant=0, n_clusters_per_class=1, \n",
    "                                  flip_y=0, random_state=4)\n",
    "\n",
    "# define model\n",
    "brf_model_2 = BaggingClassifier()\n",
    "\n",
    "# define evaluation procedure\n",
    "cv = RepeatedStratifiedKFold(n_splits=10, n_repeats=3, random_state=1)\n",
    "\n",
    "# evaluate model\n",
    "scores = cross_val_score(brf_model_2, X, y, scoring='roc_auc', cv=cv, n_jobs=-1)\n",
    "\n",
    "# summarize performance\n",
    "print('Mean ROC AUC: %.3f' % mean(scores))"
   ]
  },
  {
   "cell_type": "code",
   "execution_count": 15,
   "id": "63d302cb",
   "metadata": {},
   "outputs": [],
   "source": [
    "# Split data\n",
    "from sklearn.model_selection import train_test_split\n",
    "X_train, X_test, y_train, y_test = train_test_split(X, y, random_state=1)"
   ]
  },
  {
   "cell_type": "code",
   "execution_count": 16,
   "id": "87d47d44",
   "metadata": {},
   "outputs": [
    {
     "name": "stdout",
     "output_type": "stream",
     "text": [
      "(75, 5)\n"
     ]
    }
   ],
   "source": [
    "print(X_train.shape)"
   ]
  },
  {
   "cell_type": "code",
   "execution_count": 17,
   "id": "3bbe7538",
   "metadata": {},
   "outputs": [
    {
     "name": "stdout",
     "output_type": "stream",
     "text": [
      "(75,)\n"
     ]
    }
   ],
   "source": [
    "print(y_train.shape)"
   ]
  },
  {
   "cell_type": "code",
   "execution_count": 18,
   "id": "e3bb845e",
   "metadata": {},
   "outputs": [
    {
     "data": {
      "text/plain": [
       "BaggingClassifier()"
      ]
     },
     "execution_count": 18,
     "metadata": {},
     "output_type": "execute_result"
    }
   ],
   "source": [
    "# Fitting the model\n",
    "brf_model_2 = brf_model_2.fit(X_train, y_train)\n",
    "brf_model_2"
   ]
  },
  {
   "cell_type": "code",
   "execution_count": 19,
   "id": "0b7f6ceb",
   "metadata": {},
   "outputs": [
    {
     "data": {
      "text/plain": [
       "0.8819444444444444"
      ]
     },
     "execution_count": 19,
     "metadata": {},
     "output_type": "execute_result"
    }
   ],
   "source": [
    "# Calculated the balanced accuracy score\n",
    "from sklearn.metrics import balanced_accuracy_score\n",
    "y_pred = brf_model_2.predict(X_test)\n",
    "balanced_accuracy_score(y_test, y_pred)"
   ]
  },
  {
   "cell_type": "code",
   "execution_count": 20,
   "id": "89361cdf",
   "metadata": {},
   "outputs": [
    {
     "name": "stdout",
     "output_type": "stream",
     "text": [
      "[[ 8  1]\n",
      " [ 2 14]]\n"
     ]
    }
   ],
   "source": [
    "# Display the confusion matrix\n",
    "from sklearn.metrics import confusion_matrix\n",
    "confusion_matrix(y_test, y_pred)\n",
    "#Generate the confusion matrix\n",
    "cf_matrix = confusion_matrix(y_test, y_pred)\n",
    "\n",
    "print(cf_matrix)"
   ]
  },
  {
   "cell_type": "code",
   "execution_count": 21,
   "id": "c69e11cd",
   "metadata": {},
   "outputs": [],
   "source": [
    "#Import libraries\n",
    "import matplotlib.pyplot as plt\n",
    "from sklearn.datasets import make_classification\n",
    "from sklearn.metrics import plot_confusion_matrix\n",
    "from sklearn.model_selection import train_test_split\n",
    "from sklearn.svm import SVC\n",
    "import seaborn as sns"
   ]
  },
  {
   "cell_type": "code",
   "execution_count": 22,
   "id": "7341135b",
   "metadata": {},
   "outputs": [
    {
     "data": {
      "image/png": "[encoded data removed]",
      "text/plain": [
       "<Figure size 432x288 with 2 Axes>"
      ]
     },
     "metadata": {
      "needs_background": "light"
     },
     "output_type": "display_data"
    },
    {
     "data": {
      "text/plain": [
       "<Figure size 432x288 with 0 Axes>"
      ]
     },
     "metadata": {},
     "output_type": "display_data"
    }
   ],
   "source": [
    "#Plot confusion Matrix with percentages \n",
    "#https://www.stackvidhya.com/plot-confusion-matrix-in-python-and-why/\n",
    "\n",
    "ax = sns.heatmap(cf_matrix/np.sum(cf_matrix), annot=True, \n",
    "            fmt='.2%', cmap='Blues')\n",
    "\n",
    "ax.set_title('Mortality Confusion Matrix with labels\\n\\n');\n",
    "ax.set_xlabel('\\nPredicted Values')\n",
    "ax.set_ylabel('Actual Values ');\n",
    "\n",
    "## Ticket labels - List must be in alphabetical order\n",
    "ax.xaxis.set_ticklabels(['False','True'])\n",
    "ax.yaxis.set_ticklabels(['False','True'])\n",
    "\n",
    "## Display the visualization of the Confusion Matrix.\n",
    "plt.show()\n",
    "\n",
    "plt.savefig(\"mortality_confusion_matrix.jpg\")"
   ]
  },
  {
   "cell_type": "code",
   "execution_count": 23,
   "id": "f7386664",
   "metadata": {},
   "outputs": [
    {
     "name": "stdout",
     "output_type": "stream",
     "text": [
      "                   pre       rec       spe        f1       geo       iba       sup\n",
      "\n",
      "          0       0.80      0.89      0.88      0.84      0.88      0.78         9\n",
      "          1       0.93      0.88      0.89      0.90      0.88      0.78        16\n",
      "\n",
      "avg / total       0.89      0.88      0.88      0.88      0.88      0.78        25\n",
      "\n"
     ]
    }
   ],
   "source": [
    "# Print the imbalanced classification report\n",
    "from imblearn.metrics import classification_report_imbalanced\n",
    "print(classification_report_imbalanced(y_test, y_pred))"
   ]
  },
  {
   "cell_type": "code",
   "execution_count": 24,
   "id": "ccee9faa",
   "metadata": {},
   "outputs": [
    {
     "data": {
      "image/png": "[encoded data removed]",
      "text/plain": [
       "<Figure size 576x396 with 2 Axes>"
      ]
     },
     "metadata": {},
     "output_type": "display_data"
    },
    {
     "data": {
      "text/plain": [
       "<AxesSubplot:title={'center':'BaggingClassifier Classification Report'}>"
      ]
     },
     "execution_count": 24,
     "metadata": {},
     "output_type": "execute_result"
    }
   ],
   "source": [
    "#Visualize classifcation report\n",
    "# https://stackoverflow.com/questions/58801967/classification-report-using-yellowbrick\n",
    "\n",
    "from yellowbrick.classifier import ClassificationReport\n",
    "\n",
    "# Instantiate the classification model and visualizer\n",
    "visualizer = ClassificationReport(brf_model_2, support=True, cmap=\"Blues\")\n",
    "\n",
    "# Fit the visualizer and the model\n",
    "visualizer.fit(X_train, y_train)\n",
    "\n",
    "# Evaluate the model on the test data\n",
    "visualizer.score(X_test, y_test) \n",
    "visualizer.show()  "
   ]
  },
  {
   "cell_type": "markdown",
   "id": "465d3dc1",
   "metadata": {},
   "source": [
    "# Optimizing Model Using Roc Curce and AUC"
   ]
  },
  {
   "cell_type": "code",
   "execution_count": 25,
   "id": "a0dcb493",
   "metadata": {
    "scrolled": true
   },
   "outputs": [
    {
     "name": "stdout",
     "output_type": "stream",
     "text": [
      "No Skill: ROC AUC=0.500\n",
      "Logistic: ROC AUC=0.978\n"
     ]
    },
    {
     "data": {
      "image/png": "[encoded data removed]",
      "text/plain": [
       "<Figure size 576x396 with 1 Axes>"
      ]
     },
     "metadata": {},
     "output_type": "display_data"
    }
   ],
   "source": [
    "# https://machinelearningmastery.com/roc-curves-and-precision-recall-curves-for-classification-in-python/\n",
    "\n",
    "# roc curve and auc\n",
    "from sklearn.datasets import make_classification\n",
    "from sklearn.linear_model import LogisticRegression\n",
    "from sklearn.model_selection import train_test_split\n",
    "from sklearn.metrics import roc_curve\n",
    "from sklearn.metrics import roc_auc_score\n",
    "from matplotlib import pyplot\n",
    "\n",
    "# generate 2 class dataset\n",
    "X, y = make_classification(n_samples=100, n_classes=2, random_state=1)\n",
    "\n",
    "# split into train/test sets\n",
    "trainX, testX, trainy, testy = train_test_split(X, y, test_size=0.5, random_state=2)\n",
    "\n",
    "# generate a no skill prediction (majority class)\n",
    "ns_probs = [0 for _ in range(len(testy))]\n",
    "\n",
    "# fit a model\n",
    "brf_model_3 = LogisticRegression(solver='lbfgs')\n",
    "brf_model_3.fit(trainX, trainy)\n",
    "\n",
    "# predict probabilities\n",
    "lr_probs = brf_model_3.predict_proba(testX)\n",
    "\n",
    "# keep probabilities for the positive outcome only\n",
    "lr_probs = lr_probs[:, 1]\n",
    "\n",
    "# calculate scores\n",
    "ns_auc = roc_auc_score(testy, ns_probs)\n",
    "lr_auc = roc_auc_score(testy, lr_probs)\n",
    "\n",
    "# summarize scores\n",
    "print('No Skill: ROC AUC=%.3f' % (ns_auc))\n",
    "print('Logistic: ROC AUC=%.3f' % (lr_auc))\n",
    "\n",
    "# calculate roc curves\n",
    "ns_fpr, ns_tpr, _ = roc_curve(testy, ns_probs)\n",
    "lr_fpr, lr_tpr, _ = roc_curve(testy, lr_probs)\n",
    "# plot the roc curve for the model\n",
    "\n",
    "pyplot.plot(ns_fpr, ns_tpr, linestyle='--', label='No Skill')\n",
    "pyplot.plot(lr_fpr, lr_tpr, marker='.', label='Logistic')\n",
    "\n",
    "# axis labels\n",
    "pyplot.xlabel('False Positive Rate')\n",
    "pyplot.ylabel('True Positive Rate')\n",
    "\n",
    "# show the legend\n",
    "pyplot.legend()\n",
    "\n",
    "# show the plot\n",
    "pyplot.show()"
   ]
  },
  {
   "cell_type": "code",
   "execution_count": null,
   "id": "67c67bd8",
   "metadata": {},
   "outputs": [],
   "source": []
  }
 ],
 "metadata": {
  "kernelspec": {
   "display_name": "mlenv",
   "language": "python",
   "name": "mlenv"
  },
  "language_info": {
   "codemirror_mode": {
    "name": "ipython",
    "version": 3
   },
   "file_extension": ".py",
   "mimetype": "text/x-python",
   "name": "python",
   "nbconvert_exporter": "python",
   "pygments_lexer": "ipython3",
   "version": "3.7.13"
  }
 },
 "nbformat": 4,
 "nbformat_minor": 5
}
